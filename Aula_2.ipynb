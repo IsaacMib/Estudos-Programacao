{
  "nbformat": 4,
  "nbformat_minor": 0,
  "metadata": {
    "colab": {
      "provenance": [],
      "authorship_tag": "ABX9TyPRmvw9Rq2acH3OsdW/4gjK",
      "include_colab_link": true
    },
    "kernelspec": {
      "name": "python3",
      "display_name": "Python 3"
    },
    "language_info": {
      "name": "python"
    }
  },
  "cells": [
    {
      "cell_type": "markdown",
      "metadata": {
        "id": "view-in-github",
        "colab_type": "text"
      },
      "source": [
        "<a href=\"https://colab.research.google.com/github/IsaacMib/Estudos-Programacao/blob/main/Aula_2.ipynb\" target=\"_parent\"><img src=\"https://colab.research.google.com/assets/colab-badge.svg\" alt=\"Open In Colab\"/></a>"
      ]
    },
    {
      "cell_type": "code",
      "execution_count": 2,
      "metadata": {
        "colab": {
          "base_uri": "https://localhost:8080/"
        },
        "id": "CDz2YdRZ71HE",
        "outputId": "4ab27ad8-6cea-4b51-f6b9-08eb595b9e80"
      },
      "outputs": [
        {
          "output_type": "stream",
          "name": "stdout",
          "text": [
            "Digite a idade do atleta! : 14\n",
            "Juvenil\n"
          ]
        }
      ],
      "source": [
        "idade = int(input('Digite a idade do atleta! : '))\n",
        "if (idade < 14):\n",
        "  print('Infantil')\n",
        "elif(idade < 18):\n",
        "  print('Juvenil')\n",
        "else:\n",
        "  print('Senior')\n"
      ]
    },
    {
      "cell_type": "code",
      "source": [
        "peso = float(input('Peso : '))\n",
        "altura = float(input('Altura : '))\n",
        "imc = float(peso / (altura * altura))\n",
        "if (imc < 18.5):\n",
        "  print('MAGREZA')\n",
        "elif(imc < 24.9):\n",
        "  print('NORMAL')\n",
        "elif(imc < 29.9):\n",
        "  print('SOBREPESO')\n",
        "elif(imc < 34.0):\n",
        "  print('OBESIDADE GRAU II')\n",
        "elif(imc < 39.9):\n",
        "  print('OBESIDADE GRAU II')\n",
        "else:\n",
        "  print('OBESIDADE GRAU III')"
      ],
      "metadata": {
        "colab": {
          "base_uri": "https://localhost:8080/"
        },
        "id": "vy2pabn68IGO",
        "outputId": "d2630188-1d82-487b-8c80-6693e519aca9"
      },
      "execution_count": 4,
      "outputs": [
        {
          "output_type": "stream",
          "name": "stdout",
          "text": [
            "Peso : 105\n",
            "Altura : 1.82\n",
            "OBESIDADE GRAU II\n"
          ]
        }
      ]
    },
    {
      "cell_type": "code",
      "source": [
        "# listas\n",
        "# Exemplos: \n",
        "# frutas ['maça', 'banana, 'goiaba', 'morango']\n",
        "\n",
        "# tamanho de uma lista\n",
        "# len(frutas)\n",
        "\n",
        "# imprimir elemento da lista pelo índice\n",
        "# print(lista[indice])"
      ],
      "metadata": {
        "id": "3MuvjGeOA3L9"
      },
      "execution_count": null,
      "outputs": []
    },
    {
      "cell_type": "code",
      "source": [
        "#Listas são estruturadas de dados formadas por elementos\n",
        "\n",
        "num = [12, 13, 17, 22, 34, 47, 59, 69, 78]"
      ],
      "metadata": {
        "id": "ANruzmhOAFTQ"
      },
      "execution_count": 10,
      "outputs": []
    },
    {
      "cell_type": "code",
      "source": [
        "#tamanho de uma lista\n",
        "\n",
        "len(num)"
      ],
      "metadata": {
        "colab": {
          "base_uri": "https://localhost:8080/"
        },
        "id": "-xu4rEBkAqFF",
        "outputId": "14a291c2-0276-427c-dae7-6f64a25416c6"
      },
      "execution_count": 11,
      "outputs": [
        {
          "output_type": "execute_result",
          "data": {
            "text/plain": [
              "9"
            ]
          },
          "metadata": {},
          "execution_count": 11
        }
      ]
    },
    {
      "cell_type": "code",
      "source": [
        "#A ordenação das listas têm índice que inicia em 0, e vai até o tamanho da lista\n",
        "\n",
        "print(num[0]) #Primeiro ítem da lista\n",
        "print(num[1])\n",
        "print(num[2])\n",
        "print(num[3])\n",
        "print(num[4])\n",
        "print(num[5])\n",
        "print(num[6])\n",
        "print(num[7])\n",
        "print(num[8]) "
      ],
      "metadata": {
        "id": "GsGLKBMhARzO"
      },
      "execution_count": null,
      "outputs": []
    },
    {
      "cell_type": "code",
      "source": [
        "# Lista de Outros Tipos\n",
        "\n",
        "alunos = ['Victor', 'Amanda', 'Manuel', 'Guilherme', 'Riuken', 'Luana', 'Pedro', 'Pamela', 'Samira', 'Diego']"
      ],
      "metadata": {
        "id": "ryuy1vdQDLI2"
      },
      "execution_count": 36,
      "outputs": []
    },
    {
      "cell_type": "code",
      "source": [
        "len(alunos)"
      ],
      "metadata": {
        "colab": {
          "base_uri": "https://localhost:8080/"
        },
        "id": "kA5-A_G_EcEf",
        "outputId": "b94f770a-e705-4237-c6d8-023e07b6cc05"
      },
      "execution_count": 37,
      "outputs": [
        {
          "output_type": "execute_result",
          "data": {
            "text/plain": [
              "10"
            ]
          },
          "metadata": {},
          "execution_count": 37
        }
      ]
    },
    {
      "cell_type": "code",
      "source": [
        "# Alterar o valores de ítens de lista\n",
        "alunos[2] = 'Corno'"
      ],
      "metadata": {
        "id": "gMvJKhZ1ELuo"
      },
      "execution_count": null,
      "outputs": []
    },
    {
      "cell_type": "code",
      "source": [
        "#inserir valores na lista .append()\n",
        "alunos.append('Joyce')\n",
        "alunos"
      ],
      "metadata": {
        "id": "-B8k8vkfF33y"
      },
      "execution_count": null,
      "outputs": []
    },
    {
      "cell_type": "code",
      "source": [
        " alunos.append(input('Digite o nome : '))"
      ],
      "metadata": {
        "id": "8McMCOVmGHcZ"
      },
      "execution_count": null,
      "outputs": []
    },
    {
      "cell_type": "code",
      "source": [
        "#Descobrir se há um valor determinado na lista, exibir sua posição\n",
        "\n",
        "champions = ['Caitlyn', 'Ashe', 'Kayn', 'Vi', 'Miss Fotune', 'Sett', 'Aphelios']\n",
        "\n",
        "if 'Caitlyn' or 'Ashe' or 'Miss Fortune' in champions:\n",
        "   print('Adc')\n",
        "if 'Kayn' or 'Vi' in champions:\n",
        "  print('Jungle')"
      ],
      "metadata": {
        "colab": {
          "base_uri": "https://localhost:8080/"
        },
        "id": "pG6TATZ3HIzq",
        "outputId": "e304b54e-6873-4208-bb41-9b2909453018"
      },
      "execution_count": 48,
      "outputs": [
        {
          "output_type": "stream",
          "name": "stdout",
          "text": [
            "Adc\n",
            "Jungle\n"
          ]
        }
      ]
    },
    {
      "cell_type": "code",
      "source": [
        "champions = ['Caitlyn', 'Ashe', 'Kayn', 'Vi', 'Miss Fotune', 'Sett', 'Aphelios']\n",
        "\n",
        "nome = input('Digite o Campeão : ')\n",
        "\n",
        "if nome in champions:\n",
        "  print('Deu bom: ', nome)\n",
        "else:\n",
        "  print('Deu ruim: ', nome)"
      ],
      "metadata": {
        "colab": {
          "base_uri": "https://localhost:8080/"
        },
        "id": "A6cGO3B9QPQM",
        "outputId": "72b8f30b-75cd-43d0-ed68-6202aec70963"
      },
      "execution_count": 50,
      "outputs": [
        {
          "output_type": "stream",
          "name": "stdout",
          "text": [
            "Digite o Campeão : Aurelio Sol\n",
            "Deu ruim:  Aurelio Sol\n"
          ]
        }
      ]
    },
    {
      "cell_type": "code",
      "source": [
        "numeros = []\n",
        "for num in range(15):\n",
        "  numeros.append(num)"
      ],
      "metadata": {
        "id": "Kxau5zF-T5UW"
      },
      "execution_count": 66,
      "outputs": []
    },
    {
      "cell_type": "code",
      "source": [
        "dobro = []\n",
        "for num in numeros:\n",
        "  dobro.append(numeros[num]*2)"
      ],
      "metadata": {
        "id": "DnypAf2gVPlJ"
      },
      "execution_count": 67,
      "outputs": []
    },
    {
      "cell_type": "code",
      "source": [
        "a = 8\n",
        "if a%2 == 0:\n",
        "  print('É Par')\n",
        "else:\n",
        "  print('É Par')"
      ],
      "metadata": {
        "colab": {
          "base_uri": "https://localhost:8080/"
        },
        "id": "IfUXb6aSXpK-",
        "outputId": "4ba1c6fe-74a6-48a9-9b88-936e5010b2b0"
      },
      "execution_count": 61,
      "outputs": [
        {
          "output_type": "stream",
          "name": "stdout",
          "text": [
            "É Par\n"
          ]
        }
      ]
    },
    {
      "cell_type": "code",
      "source": [
        "for num in numeros:\n",
        "  if numeros[num]%2 == 0:\n",
        "    print(numeros[num])"
      ],
      "metadata": {
        "colab": {
          "base_uri": "https://localhost:8080/"
        },
        "id": "VvWHh8AdYFd5",
        "outputId": "404253d9-5654-4808-876a-d7034fff6c0b"
      },
      "execution_count": 68,
      "outputs": [
        {
          "output_type": "stream",
          "name": "stdout",
          "text": [
            "0\n",
            "2\n",
            "4\n",
            "6\n",
            "8\n",
            "10\n",
            "12\n",
            "14\n"
          ]
        }
      ]
    }
  ]
}