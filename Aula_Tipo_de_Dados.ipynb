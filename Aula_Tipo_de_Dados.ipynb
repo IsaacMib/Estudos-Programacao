{
  "nbformat": 4,
  "nbformat_minor": 0,
  "metadata": {
    "colab": {
      "provenance": [],
      "authorship_tag": "ABX9TyPbEZht9eFXstfhSHj2l0z3",
      "include_colab_link": true
    },
    "kernelspec": {
      "name": "python3",
      "display_name": "Python 3"
    },
    "language_info": {
      "name": "python"
    }
  },
  "cells": [
    {
      "cell_type": "markdown",
      "metadata": {
        "id": "view-in-github",
        "colab_type": "text"
      },
      "source": [
        "<a href=\"https://colab.research.google.com/github/IsaacMib/Estudos-Programacao/blob/main/Aula_Tipo_de_Dados.ipynb\" target=\"_parent\"><img src=\"https://colab.research.google.com/assets/colab-badge.svg\" alt=\"Open In Colab\"/></a>"
      ]
    },
    {
      "cell_type": "code",
      "source": [
        "print(\"Isaac\")"
      ],
      "metadata": {
        "id": "o9dTs0oJZSUP"
      },
      "execution_count": null,
      "outputs": []
    },
    {
      "cell_type": "code",
      "source": [
        "nome = \"Isaac Menezes\"\n",
        "print(nome)"
      ],
      "metadata": {
        "id": "IG3MudBNZWHc"
      },
      "execution_count": null,
      "outputs": []
    },
    {
      "cell_type": "code",
      "source": [
        "type(nome)"
      ],
      "metadata": {
        "id": "CFIW-cEzZeBx"
      },
      "execution_count": null,
      "outputs": []
    },
    {
      "cell_type": "code",
      "source": [
        "a = 100 \n",
        "b = 85.6 \n",
        "c = 'Lua' \n",
        "d = a < b"
      ],
      "metadata": {
        "id": "k1sQG70DZhtZ"
      },
      "execution_count": 63,
      "outputs": []
    },
    {
      "cell_type": "code",
      "source": [
        "type(a)"
      ],
      "metadata": {
        "colab": {
          "base_uri": "https://localhost:8080/"
        },
        "id": "nmseZtiwZq1J",
        "outputId": "69e5ea10-cca7-404a-d2a9-29e0e1f3cbfe"
      },
      "execution_count": 64,
      "outputs": [
        {
          "output_type": "execute_result",
          "data": {
            "text/plain": [
              "int"
            ]
          },
          "metadata": {},
          "execution_count": 64
        }
      ]
    },
    {
      "cell_type": "code",
      "source": [
        "type(b)"
      ],
      "metadata": {
        "colab": {
          "base_uri": "https://localhost:8080/"
        },
        "id": "pfmv-oisZtdf",
        "outputId": "e13c7a28-9fae-4d95-8e44-0959e112dc65"
      },
      "execution_count": 65,
      "outputs": [
        {
          "output_type": "execute_result",
          "data": {
            "text/plain": [
              "float"
            ]
          },
          "metadata": {},
          "execution_count": 65
        }
      ]
    },
    {
      "cell_type": "code",
      "source": [
        "type(c)"
      ],
      "metadata": {
        "colab": {
          "base_uri": "https://localhost:8080/"
        },
        "id": "aGoRLL9TZuZe",
        "outputId": "4856da22-aa65-4794-8ef1-0d559b5b77e5"
      },
      "execution_count": 66,
      "outputs": [
        {
          "output_type": "execute_result",
          "data": {
            "text/plain": [
              "str"
            ]
          },
          "metadata": {},
          "execution_count": 66
        }
      ]
    },
    {
      "cell_type": "code",
      "source": [
        "type(d)"
      ],
      "metadata": {
        "colab": {
          "base_uri": "https://localhost:8080/"
        },
        "id": "ieasAZiqZvaZ",
        "outputId": "a4543bc0-2b7b-421f-f4ed-f66ffc28351c"
      },
      "execution_count": 67,
      "outputs": [
        {
          "output_type": "execute_result",
          "data": {
            "text/plain": [
              "bool"
            ]
          },
          "metadata": {},
          "execution_count": 67
        }
      ]
    },
    {
      "cell_type": "markdown",
      "source": [
        "True or False"
      ],
      "metadata": {
        "id": "Le64B8UuXvIa"
      }
    },
    {
      "cell_type": "code",
      "source": [
        "a = 100 < 200\n",
        "b = 85 == 6\n",
        "c = 'Lua' == 'lua'\n",
        "d = 25 == '25'\n",
        "e = 30 == (6*5)\n",
        "f = 'Flamengo' != 'Vasco'"
      ],
      "metadata": {
        "id": "6Z6IFUKBEdUk"
      },
      "execution_count": 55,
      "outputs": []
    },
    {
      "cell_type": "code",
      "source": [
        "print(a)\n",
        "print(b)\n",
        "print(c)\n",
        "print(d)\n",
        "print(e)\n",
        "print(f)"
      ],
      "metadata": {
        "id": "lFatvNldLl84"
      },
      "execution_count": null,
      "outputs": []
    },
    {
      "cell_type": "markdown",
      "source": [
        "Notas"
      ],
      "metadata": {
        "id": "BlBbz6BVXtDB"
      }
    },
    {
      "cell_type": "code",
      "source": [
        "notaAprovacao = 7.0\n",
        "notaReprovação = 4.0\n",
        "nota = 5.0"
      ],
      "metadata": {
        "id": "I8prNIgWM5Qy"
      },
      "execution_count": 40,
      "outputs": []
    },
    {
      "cell_type": "code",
      "source": [
        "if (nota >= notaAprovacao):\n",
        "  print('Passou')\n",
        "if (nota >= notaReprovação and nota < notaAprovacao):\n",
        "  print('Recuperação')\n",
        "if (nota < notaReprovação):\n",
        "  print('Reprovado')\n"
      ],
      "metadata": {
        "colab": {
          "base_uri": "https://localhost:8080/"
        },
        "id": "GLf2_VdWNjx2",
        "outputId": "17ec56d7-661b-412d-d2cc-b4296ca17b15"
      },
      "execution_count": 38,
      "outputs": [
        {
          "output_type": "stream",
          "name": "stdout",
          "text": [
            "Recuperação\n"
          ]
        }
      ]
    },
    {
      "cell_type": "code",
      "source": [
        "if (nota < notaReprovação):\n",
        "  print('Reprovado')\n",
        "elif(nota < notaAprovacao):\n",
        "  print('Recuperação')\n",
        "else:\n",
        "  print('Aprovado')"
      ],
      "metadata": {
        "colab": {
          "base_uri": "https://localhost:8080/"
        },
        "id": "r6XZjnz1S4zb",
        "outputId": "643847c4-9781-43e3-a24f-06ade613d62b"
      },
      "execution_count": 44,
      "outputs": [
        {
          "output_type": "stream",
          "name": "stdout",
          "text": [
            "Recuperação\n"
          ]
        }
      ]
    },
    {
      "cell_type": "markdown",
      "source": [
        "Input de Dados no Python"
      ],
      "metadata": {
        "id": "O1oS769xUYrn"
      }
    },
    {
      "cell_type": "code",
      "source": [
        "nota1 = float(input('AV1 : '))\n",
        "nota2 = float(input('AV2 : '))\n",
        "nota3 = float(input('AV3 : '))\n",
        "Nota_Final = float((nota1 + nota2 + nota3)/3)\n",
        "print(Nota_Final)"
      ],
      "metadata": {
        "colab": {
          "base_uri": "https://localhost:8080/"
        },
        "id": "cHRaoSdhUdI2",
        "outputId": "75e2f1f6-d287-4cee-ceef-fe6c217c3df5"
      },
      "execution_count": 52,
      "outputs": [
        {
          "output_type": "stream",
          "name": "stdout",
          "text": [
            "AV1 : 10\n",
            "AV2 : 5\n",
            "AV3 : 6\n",
            "7.0\n"
          ]
        }
      ]
    },
    {
      "cell_type": "code",
      "source": [
        "if (Nota_Final < 4):\n",
        "  print('Reprovado')\n",
        "elif(Nota_Final < 7):\n",
        "  print('Recuperação')\n",
        "else:\n",
        "  print('Aprovado')"
      ],
      "metadata": {
        "colab": {
          "base_uri": "https://localhost:8080/"
        },
        "id": "oNLF3mOUXNhM",
        "outputId": "f7bf3d82-6757-47ba-e560-b4eb24da9a9e"
      },
      "execution_count": 54,
      "outputs": [
        {
          "output_type": "stream",
          "name": "stdout",
          "text": [
            "Aprovado\n"
          ]
        }
      ]
    }
  ]
}