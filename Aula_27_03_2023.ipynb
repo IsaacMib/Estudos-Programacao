{
  "nbformat": 4,
  "nbformat_minor": 0,
  "metadata": {
    "colab": {
      "provenance": [],
      "collapsed_sections": [
        "nj0OihrBGzIm"
      ],
      "authorship_tag": "ABX9TyOSGUFhMGex0LjnvfX++DdW",
      "include_colab_link": true
    },
    "kernelspec": {
      "name": "python3",
      "display_name": "Python 3"
    },
    "language_info": {
      "name": "python"
    }
  },
  "cells": [
    {
      "cell_type": "markdown",
      "metadata": {
        "id": "view-in-github",
        "colab_type": "text"
      },
      "source": [
        "<a href=\"https://colab.research.google.com/github/IsaacMib/Estudos-Programacao/blob/main/Aula_27_03_2023.ipynb\" target=\"_parent\"><img src=\"https://colab.research.google.com/assets/colab-badge.svg\" alt=\"Open In Colab\"/></a>"
      ]
    },
    {
      "cell_type": "markdown",
      "source": [
        "# Revisão"
      ],
      "metadata": {
        "id": "nj0OihrBGzIm"
      }
    },
    {
      "cell_type": "markdown",
      "source": [
        "Revisão"
      ],
      "metadata": {
        "id": "vFA-KPtzGHFA"
      }
    },
    {
      "cell_type": "code",
      "source": [
        "print('Isaac')"
      ],
      "metadata": {
        "colab": {
          "base_uri": "https://localhost:8080/"
        },
        "id": "6jA2tH5tGGGx",
        "outputId": "5aaabdb0-bfd8-4663-f5a9-567b7f3c4a07"
      },
      "execution_count": 8,
      "outputs": [
        {
          "output_type": "stream",
          "name": "stdout",
          "text": [
            "Isaac\n"
          ]
        }
      ]
    },
    {
      "cell_type": "code",
      "source": [
        "ano = 2023\n",
        "print(ano)"
      ],
      "metadata": {
        "colab": {
          "base_uri": "https://localhost:8080/"
        },
        "id": "e-iYFSXcGEMj",
        "outputId": "fab08f1f-ee54-4779-8c89-23eeb9f9e2fb"
      },
      "execution_count": 9,
      "outputs": [
        {
          "output_type": "stream",
          "name": "stdout",
          "text": [
            "2023\n"
          ]
        }
      ]
    },
    {
      "cell_type": "code",
      "source": [
        "fruta = 'Banana'\n",
        "print(fruta)"
      ],
      "metadata": {
        "colab": {
          "base_uri": "https://localhost:8080/"
        },
        "id": "bbFG7kc-Cead",
        "outputId": "4c7e2008-37d8-49fc-d0a3-7b6720ba4411"
      },
      "execution_count": 10,
      "outputs": [
        {
          "output_type": "stream",
          "name": "stdout",
          "text": [
            "Banana\n"
          ]
        }
      ]
    },
    {
      "cell_type": "markdown",
      "source": [
        "# Laços For"
      ],
      "metadata": {
        "id": "eruzNw0gG28u"
      }
    },
    {
      "cell_type": "code",
      "source": [
        "# criando uma lista\n",
        "frutas = ['morango', 'amora', 'mirtilo', 'framboesa', 'cereja']"
      ],
      "metadata": {
        "id": "Uzh0UMSKEPzb"
      },
      "execution_count": 11,
      "outputs": []
    },
    {
      "cell_type": "code",
      "source": [
        "for i in frutas:\n",
        "  print(i)"
      ],
      "metadata": {
        "id": "-AhXf2ktFDk5"
      },
      "execution_count": null,
      "outputs": []
    },
    {
      "cell_type": "code",
      "source": [
        "for i in frutas:\n",
        "  if(i == 'morango'):\n",
        "    print(i)"
      ],
      "metadata": {
        "id": "RPo2khg6GS1y"
      },
      "execution_count": null,
      "outputs": []
    },
    {
      "cell_type": "code",
      "source": [
        "fruta = input('Insira uma Fruta: ')\n",
        "#inserir valores em listas...\n",
        "frutas.append(fruta)\n",
        "frutas"
      ],
      "metadata": {
        "id": "uleEQa8DH2l-"
      },
      "execution_count": null,
      "outputs": []
    },
    {
      "cell_type": "code",
      "source": [
        "for nota in notas:\n",
        "  if(nota >= 7):\n",
        "    print(nota)"
      ],
      "metadata": {
        "id": "eBNijkxzLexU"
      },
      "execution_count": null,
      "outputs": []
    },
    {
      "cell_type": "code",
      "source": [
        "# Exibir a quantidade de alunos que foram reprovados e aprovados\n",
        "\n",
        "notas = [8, 9, 3, 4, 7, 10, 3, 6, 7]\n",
        "\n",
        "aprovados = 0\n",
        "reprovados = 0\n",
        "\n",
        "for nota in notas:\n",
        "\n",
        "  if(nota>=7):\n",
        "    aprovados +=1\n",
        "  else:\n",
        "    reprovados += 1\n",
        "\n",
        "print('Aprovados:', aprovados)\n",
        "print('Reprovados:', reprovados)"
      ],
      "metadata": {
        "colab": {
          "base_uri": "https://localhost:8080/"
        },
        "id": "6LhrTpOlLr-g",
        "outputId": "16942aef-2675-4cf2-b3d9-38bc4aeb08a3"
      },
      "execution_count": 33,
      "outputs": [
        {
          "output_type": "stream",
          "name": "stdout",
          "text": [
            "Aprovados: 5\n",
            "Reprovados: 4\n"
          ]
        }
      ]
    },
    {
      "cell_type": "code",
      "source": [
        "resident_evil = ['Resident Evil 0', 'Resident Evil', 'Resident Evil Remake', 'Resident Evil 2', 'Resident Evil 2 Remake', 'Resident Evil 3 Nemesis', 'Resident Evil 3 Remake', 'Resident Evil CODE: Veronica', 'Resident Evil 4', 'Resident Evil 4 Remake', 'Resident Evil 5', 'Resident Evil 6', 'Resident Evil 7 Biohazard', 'Resident Evil Village']"
      ],
      "metadata": {
        "id": "0j3UMYu2HOFL"
      },
      "execution_count": 60,
      "outputs": []
    },
    {
      "cell_type": "code",
      "source": [
        "resident_evils = input('Insira um Resident Evil: ')\n",
        "resident_evil.append(resident_evils)\n",
        "resident_evil"
      ],
      "metadata": {
        "id": "Ex7x6Mf4IQVb"
      },
      "execution_count": null,
      "outputs": []
    },
    {
      "cell_type": "markdown",
      "source": [
        "# Laço While"
      ],
      "metadata": {
        "id": "9SFfW0lEQ3zE"
      }
    },
    {
      "cell_type": "code",
      "source": [
        "#Criar um programa que lista os números de 1 a 100\n",
        "#para isto, precisaremos de um contador\n",
        "\n",
        "cont=0\n",
        "numeros = []\n",
        "\n",
        "while (cont <=10):\n",
        "  numeros.append(cont)\n",
        "  cont +=1\n",
        "\n",
        "numeros"
      ],
      "metadata": {
        "colab": {
          "base_uri": "https://localhost:8080/"
        },
        "id": "AXegWCKwQ-fq",
        "outputId": "87d44c34-fb4e-4239-b4f4-a1dfdf57b616"
      },
      "execution_count": 68,
      "outputs": [
        {
          "output_type": "execute_result",
          "data": {
            "text/plain": [
              "[0, 1, 2, 3, 4, 5, 6, 7, 8, 9, 10]"
            ]
          },
          "metadata": {},
          "execution_count": 68
        }
      ]
    },
    {
      "cell_type": "code",
      "source": [
        "#modifique o código anterior, para solicitar um tamanho de lista\n",
        "#X e com o laço while, crie a nova lista, do tamanho desejado"
      ],
      "metadata": {
        "id": "Sc8YMBQXSVBM"
      },
      "execution_count": null,
      "outputs": []
    },
    {
      "cell_type": "code",
      "source": [
        "#Pede ao usuário para inserir um número inteiro maior que 1\n",
        "#O programa deve imprimir todos os números até o número digitado\n",
        "\n",
        "cont = 0\n",
        "\n",
        "numeros = []\n",
        "limite = int(input('Digite o limite da lista:  '))\n",
        "\n",
        "while (cont <= limite):\n",
        "  numeros.append(cont)\n",
        "  cont+=1\n",
        "\n",
        "numeros"
      ],
      "metadata": {
        "id": "XI3A76w1R-Ki"
      },
      "execution_count": null,
      "outputs": []
    },
    {
      "cell_type": "code",
      "source": [
        "#inserir nomes de cidades.\n",
        "#O laço encerra, quando digitar 0."
      ],
      "metadata": {
        "id": "YqZdWFHHUu4r"
      },
      "execution_count": null,
      "outputs": []
    },
    {
      "cell_type": "code",
      "source": [
        "cidades = []\n",
        "cidade = input('Inserir sua Cidade: ')\n",
        "\n",
        "while(cidade != str(0)):\n",
        "  cidades.append(cidade)\n",
        "  cidade = input('Inserir sua Cidade: ')\n",
        "\n",
        "cidades"
      ],
      "metadata": {
        "id": "Muv6uFmZU35w"
      },
      "execution_count": null,
      "outputs": []
    },
    {
      "cell_type": "code",
      "source": [
        "numero = []\n",
        "numero = int(input('inserir um numero: ' ))\n",
        "\n",
        "while(numero >= 0):\n",
        "  if (numero % 2 == 0):\n",
        "    print('É Par')\n",
        "  else:\n",
        "    print('É Impar')\n",
        "  numero = int(input('inserir um numero: ' ))\n",
        "\n",
        "print('FOI DE AMERICANAS')\n",
        "\n"
      ],
      "metadata": {
        "colab": {
          "base_uri": "https://localhost:8080/"
        },
        "id": "gQwwu_g2YsTe",
        "outputId": "620a2292-0306-4869-f1c8-d521734eb98c"
      },
      "execution_count": 100,
      "outputs": [
        {
          "output_type": "stream",
          "name": "stdout",
          "text": [
            "inserir um numero: 51564\n",
            "É Par\n",
            "inserir um numero: -5\n",
            "FOI DE AMERICANAS\n"
          ]
        }
      ]
    }
  ]
}